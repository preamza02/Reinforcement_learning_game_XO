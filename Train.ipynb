{
 "cells": [
  {
   "cell_type": "code",
   "execution_count": 1,
   "metadata": {},
   "outputs": [],
   "source": [
    "from Game_XO import utils,Game_board,agent"
   ]
  },
  {
   "cell_type": "code",
   "execution_count": 2,
   "metadata": {},
   "outputs": [],
   "source": [
    "score_dict = {\n",
    "    'Draw1':-0.1,\n",
    "    'Draw2':0.3,\n",
    "    'Win':1,\n",
    "    'Lose':-1}"
   ]
  },
  {
   "cell_type": "markdown",
   "metadata": {},
   "source": [
    "# train with bot"
   ]
  },
  {
   "cell_type": "code",
   "execution_count": null,
   "metadata": {},
   "outputs": [],
   "source": [
    "myboard = Game_board()\n",
    "p1 = agent('Player1',token = 1)\n",
    "p2 = agent('Player2')"
   ]
  },
  {
   "cell_type": "code",
   "execution_count": null,
   "metadata": {},
   "outputs": [],
   "source": [
    "utils.train_RL(myboard,p1,p2,score_dict,er1 = 0.3,er2 = 0.3,lr = 0.8,epoch = 10000,test = False)"
   ]
  },
  {
   "cell_type": "code",
   "execution_count": null,
   "metadata": {},
   "outputs": [],
   "source": [
    "utils.train_RL(myboard,p1,p2,score_dict,er1 = 0.1,er2 = 0.1,lr = 0,epoch = 100,test = True)"
   ]
  }
 ],
 "metadata": {
  "interpreter": {
   "hash": "5d935e45f50a75b8b3085d37073c914b2e3c72ad3f73dc409d7c2cbbc8e6c1f1"
  },
  "kernelspec": {
   "display_name": "Python 3.10.4 64-bit",
   "language": "python",
   "name": "python3"
  },
  "language_info": {
   "codemirror_mode": {
    "name": "ipython",
    "version": 3
   },
   "file_extension": ".py",
   "mimetype": "text/x-python",
   "name": "python",
   "nbconvert_exporter": "python",
   "pygments_lexer": "ipython3",
   "version": "3.10.4"
  },
  "orig_nbformat": 4
 },
 "nbformat": 4,
 "nbformat_minor": 2
}
