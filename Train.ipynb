{
 "cells": [
  {
   "cell_type": "code",
   "execution_count": 1,
   "metadata": {},
   "outputs": [
    {
     "ename": "ModuleNotFoundError",
     "evalue": "No module named 'Game_XO'",
     "output_type": "error",
     "traceback": [
      "\u001b[1;31m---------------------------------------------------------------------------\u001b[0m",
      "\u001b[1;31mModuleNotFoundError\u001b[0m                       Traceback (most recent call last)",
      "\u001b[1;32mc:\\Users\\For work only\\Documents\\GitHub\\Reinforcement_learning_game_XO\\try.ipynb Cell 1'\u001b[0m in \u001b[0;36m<cell line: 4>\u001b[1;34m()\u001b[0m\n\u001b[0;32m      <a href='vscode-notebook-cell:/c%3A/Users/For%20work%20only/Documents/GitHub/Reinforcement_learning_game_XO/try.ipynb#ch0000000?line=1'>2</a>\u001b[0m \u001b[39mimport\u001b[39;00m \u001b[39mrandom\u001b[39;00m\n\u001b[0;32m      <a href='vscode-notebook-cell:/c%3A/Users/For%20work%20only/Documents/GitHub/Reinforcement_learning_game_XO/try.ipynb#ch0000000?line=2'>3</a>\u001b[0m \u001b[39mimport\u001b[39;00m \u001b[39mpickle\u001b[39;00m\n\u001b[1;32m----> <a href='vscode-notebook-cell:/c%3A/Users/For%20work%20only/Documents/GitHub/Reinforcement_learning_game_XO/try.ipynb#ch0000000?line=3'>4</a>\u001b[0m \u001b[39mfrom\u001b[39;00m \u001b[39mGame_XO\u001b[39;00m \u001b[39mimport\u001b[39;00m utils,Game_board,agent\n\u001b[0;32m      <a href='vscode-notebook-cell:/c%3A/Users/For%20work%20only/Documents/GitHub/Reinforcement_learning_game_XO/try.ipynb#ch0000000?line=4'>5</a>\u001b[0m \u001b[39mfrom\u001b[39;00m \u001b[39mGame_XO\u001b[39;00m\u001b[39m.\u001b[39;00m\u001b[39mutils\u001b[39;00m \u001b[39mimport\u001b[39;00m train_RL\n",
      "\u001b[1;31mModuleNotFoundError\u001b[0m: No module named 'Game_XO'"
     ]
    }
   ],
   "source": [
    "import numpy as np\n",
    "import random\n",
    "import pickle\n",
    "from Game_XO import utils,Game_board,agent\n",
    "from Game_XO.utils import train_RL"
   ]
  },
  {
   "cell_type": "code",
   "execution_count": 2,
   "metadata": {},
   "outputs": [
    {
     "ename": "ModuleNotFoundError",
     "evalue": "No module named 'Game_XO'",
     "output_type": "error",
     "traceback": [
      "\u001b[1;31m---------------------------------------------------------------------------\u001b[0m",
      "\u001b[1;31mModuleNotFoundError\u001b[0m                       Traceback (most recent call last)",
      "\u001b[1;32mc:\\Users\\For work only\\Documents\\GitHub\\Reinforcement_learning_game_XO\\try.ipynb Cell 2'\u001b[0m in \u001b[0;36m<cell line: 1>\u001b[1;34m()\u001b[0m\n\u001b[1;32m----> <a href='vscode-notebook-cell:/c%3A/Users/For%20work%20only/Documents/GitHub/Reinforcement_learning_game_XO/try.ipynb#ch0000110?line=0'>1</a>\u001b[0m \u001b[39mimport\u001b[39;00m \u001b[39mGame_XO\u001b[39;00m\n",
      "\u001b[1;31mModuleNotFoundError\u001b[0m: No module named 'Game_XO'"
     ]
    }
   ],
   "source": [
    "import Game_XO "
   ]
  },
  {
   "cell_type": "code",
   "execution_count": null,
   "metadata": {},
   "outputs": [],
   "source": [
    "score_dict = {\n",
    "    'Draw1':-0.1,\n",
    "    'Draw2':0.3,\n",
    "    'Win':1,\n",
    "    'Lose':-1}"
   ]
  },
  {
   "cell_type": "code",
   "execution_count": null,
   "metadata": {},
   "outputs": [],
   "source": [
    "myboard = Game_board()\n",
    "p1 = agent('Player1',token = 1,er = 0.3)\n",
    "p2 = agent('Player2',er = 0.3)"
   ]
  },
  {
   "cell_type": "code",
   "execution_count": null,
   "metadata": {},
   "outputs": [],
   "source": [
    "train_RL(myboard,p1,p2,score_dict,er1 = 0.3,er2 = 0.3,lr = 0.8,epoch = 10000,test = False)"
   ]
  },
  {
   "cell_type": "code",
   "execution_count": null,
   "metadata": {},
   "outputs": [],
   "source": [
    "train_RL(myboard,p1,p2,score_dict,er1 = 0.1,er2 = 0.1,lr = 0,epoch = 100,test = True)"
   ]
  }
 ],
 "metadata": {
  "interpreter": {
   "hash": "5d935e45f50a75b8b3085d37073c914b2e3c72ad3f73dc409d7c2cbbc8e6c1f1"
  },
  "kernelspec": {
   "display_name": "Python 3.10.4 64-bit",
   "language": "python",
   "name": "python3"
  },
  "language_info": {
   "codemirror_mode": {
    "name": "ipython",
    "version": 3
   },
   "file_extension": ".py",
   "mimetype": "text/x-python",
   "name": "python",
   "nbconvert_exporter": "python",
   "pygments_lexer": "ipython3",
   "version": "3.10.4"
  },
  "orig_nbformat": 4
 },
 "nbformat": 4,
 "nbformat_minor": 2
}
